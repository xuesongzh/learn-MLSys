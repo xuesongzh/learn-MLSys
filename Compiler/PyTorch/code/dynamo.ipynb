{
 "cells": [
  {
   "cell_type": "code",
   "execution_count": 7,
   "metadata": {},
   "outputs": [],
   "source": [
    "from typing import List\n",
    "import torch\n",
    "import torch._dynamo as dynamo"
   ]
  },
  {
   "cell_type": "code",
   "execution_count": 2,
   "metadata": {},
   "outputs": [
    {
     "name": "stdout",
     "output_type": "stream",
     "text": [
      "2.0.0.dev20221210\n"
     ]
    }
   ],
   "source": [
    "print(torch.__version__)"
   ]
  },
  {
   "cell_type": "code",
   "execution_count": 1,
   "metadata": {},
   "outputs": [
    {
     "name": "stdout",
     "output_type": "stream",
     "text": [
      "my_compiler() called with FX graph:\n",
      "opcode         name     target                                               args              kwargs\n",
      "-------------  -------  ---------------------------------------------------  ----------------  --------\n",
      "placeholder    a        a                                                    ()                {}\n",
      "placeholder    b        b                                                    ()                {}\n",
      "call_function  abs_1    <built-in method abs of type object at 0x111599f20>  (a,)              {}\n",
      "call_function  add      <built-in function add>                              (abs_1, 1)        {}\n",
      "call_function  truediv  <built-in function truediv>                          (a, add)          {}\n",
      "call_method    sum_1    sum                                                  (b,)              {}\n",
      "call_function  lt       <built-in function lt>                               (sum_1, 0)        {}\n",
      "output         output   output                                               ((truediv, lt),)  {}\n",
      "my_compiler() called with FX graph:\n",
      "opcode         name    target                   args         kwargs\n",
      "-------------  ------  -----------------------  -----------  --------\n",
      "placeholder    b       b                        ()           {}\n",
      "placeholder    x       x                        ()           {}\n",
      "call_function  mul     <built-in function mul>  (b, -1)      {}\n",
      "call_function  mul_1   <built-in function mul>  (x, mul)     {}\n",
      "output         output  output                   ((mul_1,),)  {}\n"
     ]
    },
    {
     "data": {
      "text/plain": [
       "tensor([-0.0283,  0.5387, -0.3300,  0.3821,  0.0061, -0.0321,  0.5912,  0.0104,\n",
       "         0.0019,  0.0826])"
      ]
     },
     "execution_count": 1,
     "metadata": {},
     "output_type": "execute_result"
    }
   ],
   "source": [
    "dynamo.config.suppress_errors = True\n",
    "\n",
    "def my_compiler(gm: torch.fx.GraphModule, example_inputs: List[torch.Tensor]):\n",
    "    print(\"my_compiler() called with FX graph:\")\n",
    "    gm.graph.print_tabular()\n",
    "    return gm.forward  # return a python callable\n",
    "\n",
    "@dynamo.optimize(my_compiler)\n",
    "def foo(a, b):\n",
    "    x = a / (torch.abs(a) + 1)\n",
    "    if b.sum() < 0:\n",
    "        b = b* -1\n",
    "    return x * b\n",
    "\n",
    "foo(torch.randn(10), torch.randn(10))"
   ]
  }
 ],
 "metadata": {
  "kernelspec": {
   "display_name": "Python 3",
   "language": "python",
   "name": "python3"
  },
  "language_info": {
   "codemirror_mode": {
    "name": "ipython",
    "version": 3
   },
   "file_extension": ".py",
   "mimetype": "text/x-python",
   "name": "python",
   "nbconvert_exporter": "python",
   "pygments_lexer": "ipython3",
   "version": "3.7.3"
  }
 },
 "nbformat": 4,
 "nbformat_minor": 2
}
