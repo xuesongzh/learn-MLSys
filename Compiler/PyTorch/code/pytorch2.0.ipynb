{
 "cells": [
  {
   "cell_type": "code",
   "execution_count": 1,
   "metadata": {},
   "outputs": [
    {
     "name": "stderr",
     "output_type": "stream",
     "text": [
      "/Users/chenzhongming/anaconda3/lib/python3.7/site-packages/torchvision/io/image.py:13: UserWarning: Failed to load image Python extension: dlopen(/Users/chenzhongming/anaconda3/lib/python3.7/site-packages/torchvision/image.so, 6): Symbol not found: __ZN3c106detail19maybe_wrap_dim_slowExxb\n",
      "  Referenced from: /Users/chenzhongming/anaconda3/lib/python3.7/site-packages/torchvision/image.so\n",
      "  Expected in: /Users/chenzhongming/anaconda3/lib/python3.7/site-packages/torch/lib/libc10.dylib\n",
      " in /Users/chenzhongming/anaconda3/lib/python3.7/site-packages/torchvision/image.so\n",
      "  warn(f\"Failed to load image Python extension: {e}\")\n"
     ]
    }
   ],
   "source": [
    "import time\n",
    "import torch\n",
    "import torchvision\n",
    "import torchvision.models as models\n",
    "import torch._dynamo as dynamo"
   ]
  },
  {
   "cell_type": "code",
   "execution_count": 2,
   "metadata": {},
   "outputs": [
    {
     "name": "stdout",
     "output_type": "stream",
     "text": [
      "1.14.0.dev20221205\n"
     ]
    }
   ],
   "source": [
    "print(torch.__version__)"
   ]
  },
  {
   "cell_type": "code",
   "execution_count": 3,
   "metadata": {},
   "outputs": [],
   "source": [
    "def foo(x, y):\n",
    "    a = torch.sin(x)\n",
    "    b = torch.cos(x)\n",
    "    return a + b"
   ]
  },
  {
   "cell_type": "code",
   "execution_count": 5,
   "metadata": {},
   "outputs": [
    {
     "name": "stdout",
     "output_type": "stream",
     "text": [
      "0.002129793167114258\n"
     ]
    }
   ],
   "source": [
    "start = time.time()\n",
    "compiled_model = torch.compile(foo)\n",
    "out = compiled_model(torch.randn(10, 10), torch.randn(10, 10))\n",
    "end = time.time()\n",
    "print(end - start)"
   ]
  },
  {
   "cell_type": "code",
   "execution_count": 6,
   "metadata": {},
   "outputs": [
    {
     "name": "stdout",
     "output_type": "stream",
     "text": [
      "0.0015070438385009766\n"
     ]
    }
   ],
   "source": [
    "start = time.time()\n",
    "opt_foo1 = dynamo.optimize(\"inductor\")(foo)\n",
    "result = opt_foo1(torch.randn(10, 10), torch.randn(10, 10))\n",
    "end = time.time()\n",
    "print(end - start)"
   ]
  },
  {
   "cell_type": "code",
   "execution_count": 7,
   "metadata": {},
   "outputs": [
    {
     "name": "stdout",
     "output_type": "stream",
     "text": [
      "0.0008828639984130859\n"
     ]
    }
   ],
   "source": [
    "start = time.time()\n",
    "result = foo(torch.randn(10, 10), torch.randn(10, 10))\n",
    "end = time.time()\n",
    "print(end - start)"
   ]
  },
  {
   "cell_type": "code",
   "execution_count": 41,
   "metadata": {},
   "outputs": [
    {
     "name": "stderr",
     "output_type": "stream",
     "text": [
      "/Users/chenzhongming/anaconda3/lib/python3.7/site-packages/torch/storage.py:315: UserWarning: TypedStorage is deprecated. It will be removed in the future and UntypedStorage will be the only storage class. This should only matter to you if you are using storages directly.\n",
      "  warnings.warn(message, UserWarning)\n",
      "/Users/chenzhongming/anaconda3/lib/python3.7/site-packages/torch/storage.py:315: UserWarning: TypedStorage is deprecated. It will be removed in the future and UntypedStorage will be the only storage class. This should only matter to you if you are using storages directly.\n",
      "  warnings.warn(message, UserWarning)\n",
      "[2022-12-06 00:27:04,313] torch._inductor.lowering: [WARNING] using triton random, expect difference from eager\n",
      "[2022-12-06 00:27:04,868] torch._inductor.ir: [WARNING] Using FallbackKernel: aten._adaptive_avg_pool2d_backward\n"
     ]
    },
    {
     "name": "stdout",
     "output_type": "stream",
     "text": [
      "1.8354921340942383\n"
     ]
    }
   ],
   "source": [
    "model = models.alexnet()\n",
    "optimizer = torch.optim.SGD(model.parameters(), lr=0.01)\n",
    "compiled_model = torch.compile(model)\n",
    "\n",
    "x = torch.randn(16, 3, 224, 224)\n",
    "optimizer.zero_grad()\n",
    "\n",
    "start = time.time()\n",
    "out = compiled_model(x)\n",
    "out.sum().backward()\n",
    "optimizer.step()\n",
    "end = time.time()\n",
    "print(end - start)"
   ]
  },
  {
   "cell_type": "code",
   "execution_count": 42,
   "metadata": {},
   "outputs": [
    {
     "name": "stdout",
     "output_type": "stream",
     "text": [
      "0.9873549938201904\n"
     ]
    }
   ],
   "source": [
    "start = time.time()\n",
    "out = model(x)\n",
    "out.sum().backward()\n",
    "optimizer.step()\n",
    "end = time.time()\n",
    "print(end - start)"
   ]
  },
  {
   "cell_type": "code",
   "execution_count": 47,
   "metadata": {},
   "outputs": [
    {
     "name": "stdout",
     "output_type": "stream",
     "text": [
      "Finished Training: 0.9222769737243652\n",
      "Finished Training: 1.017333984375\n",
      "Finished Training: 1.0016257762908936\n",
      "Finished Training: 0.9622230529785156\n",
      "Finished Training: 1.031148910522461\n",
      "Finished Training: 0.9600911140441895\n",
      "Finished Training: 0.9932949542999268\n",
      "Finished Training: 1.0256049633026123\n",
      "Finished Training: 1.0021679401397705\n",
      "Finished Training: 1.0009710788726807\n",
      "0.9916738748550415\n"
     ]
    }
   ],
   "source": [
    "count = []\n",
    "\n",
    "for epoch in range(10):\n",
    "    start = time.time()\n",
    "    out = model(x)\n",
    "    out.sum().backward()\n",
    "    optimizer.step()\n",
    "    end = time.time()\n",
    "    count.append(end - start)\n",
    "    print('Finished Training:', end - start)\n",
    "\n",
    "print(sum(count)/len(count))"
   ]
  },
  {
   "cell_type": "code",
   "execution_count": 46,
   "metadata": {},
   "outputs": [
    {
     "name": "stdout",
     "output_type": "stream",
     "text": [
      "Finished Training: 0.9238681793212891\n",
      "Finished Training: 0.9480807781219482\n",
      "Finished Training: 0.9517581462860107\n",
      "Finished Training: 0.9673218727111816\n",
      "Finished Training: 0.9698529243469238\n",
      "Finished Training: 0.975740909576416\n",
      "Finished Training: 0.9405207633972168\n",
      "Finished Training: 0.9825499057769775\n",
      "Finished Training: 0.8716769218444824\n",
      "Finished Training: 0.9171638488769531\n",
      "0.9448534250259399\n"
     ]
    }
   ],
   "source": [
    "count = []\n",
    "\n",
    "for epoch in range(10):\n",
    "    start = time.time()\n",
    "    out = compiled_model(x)\n",
    "    out.sum().backward()\n",
    "    optimizer.step()\n",
    "    end = time.time()\n",
    "    count.append(end - start)\n",
    "    print('Finished Training:', end - start)\n",
    "    \n",
    "print(sum(count)/len(count))"
   ]
  },
  {
   "cell_type": "code",
   "execution_count": null,
   "metadata": {},
   "outputs": [],
   "source": []
  }
 ],
 "metadata": {
  "kernelspec": {
   "display_name": "Python 3",
   "language": "python",
   "name": "python3"
  },
  "language_info": {
   "codemirror_mode": {
    "name": "ipython",
    "version": 3
   },
   "file_extension": ".py",
   "mimetype": "text/x-python",
   "name": "python",
   "nbconvert_exporter": "python",
   "pygments_lexer": "ipython3",
   "version": "3.7.3"
  }
 },
 "nbformat": 4,
 "nbformat_minor": 2
}
